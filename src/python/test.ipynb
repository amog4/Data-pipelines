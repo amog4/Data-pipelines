{
 "metadata": {
  "language_info": {
   "codemirror_mode": {
    "name": "ipython",
    "version": 3
   },
   "file_extension": ".py",
   "mimetype": "text/x-python",
   "name": "python",
   "nbconvert_exporter": "python",
   "pygments_lexer": "ipython3",
   "version": "3.7.6"
  },
  "orig_nbformat": 2,
  "kernelspec": {
   "name": "python376jvsc74a57bd0b5c5f3127cf5e1f9cada1137e78f387fa507c70de0120f406593733c62e6d6f2",
   "display_name": "Python 3.7.6 64-bit ('base': conda)"
  }
 },
 "nbformat": 4,
 "nbformat_minor": 2,
 "cells": [
  {
   "cell_type": "code",
   "execution_count": 13,
   "metadata": {},
   "outputs": [],
   "source": [
    "from pytrends.request import TrendReq\n",
    "import pandas as pd \n",
    "import seaborn as sns\n",
    "import time\n",
    "from tqdm import tqdm"
   ]
  },
  {
   "cell_type": "code",
   "execution_count": 20,
   "metadata": {},
   "outputs": [],
   "source": [
    "path = '../list.csv'\n",
    "\n",
    "\n",
    "with open(path,'r') as p:\n",
    "    file_content = p.read().split(',\\n')\n"
   ]
  },
  {
   "cell_type": "code",
   "execution_count": 19,
   "metadata": {},
   "outputs": [
    {
     "output_type": "execute_result",
     "data": {
      "text/plain": [
       "['the 4400', 'american crime']"
      ]
     },
     "metadata": {},
     "execution_count": 19
    }
   ],
   "source": [
    "file_content"
   ]
  },
  {
   "cell_type": "code",
   "execution_count": 32,
   "metadata": {},
   "outputs": [],
   "source": [
    "pytrends = TrendReq(hl='india',tz=360)"
   ]
  },
  {
   "cell_type": "code",
   "execution_count": 33,
   "metadata": {},
   "outputs": [],
   "source": [
    "kw_list =  ['covid']"
   ]
  },
  {
   "cell_type": "code",
   "execution_count": 34,
   "metadata": {},
   "outputs": [],
   "source": [
    "pytrends.build_payload(kw_list=kw_list,timeframe=\"2021-04-25 2021-04-28\",geo='IN')"
   ]
  },
  {
   "cell_type": "code",
   "execution_count": 35,
   "metadata": {},
   "outputs": [],
   "source": [
    "df = pytrends.interest_over_time().reset_index()"
   ]
  },
  {
   "cell_type": "code",
   "execution_count": 36,
   "metadata": {},
   "outputs": [
    {
     "output_type": "execute_result",
     "data": {
      "text/plain": [
       "        date  covid  isPartial\n",
       "0 2021-04-25     81      False\n",
       "1 2021-04-26     90      False\n",
       "2 2021-04-27     89      False\n",
       "3 2021-04-28    100      False"
      ],
      "text/html": "<div>\n<style scoped>\n    .dataframe tbody tr th:only-of-type {\n        vertical-align: middle;\n    }\n\n    .dataframe tbody tr th {\n        vertical-align: top;\n    }\n\n    .dataframe thead th {\n        text-align: right;\n    }\n</style>\n<table border=\"1\" class=\"dataframe\">\n  <thead>\n    <tr style=\"text-align: right;\">\n      <th></th>\n      <th>date</th>\n      <th>covid</th>\n      <th>isPartial</th>\n    </tr>\n  </thead>\n  <tbody>\n    <tr>\n      <th>0</th>\n      <td>2021-04-25</td>\n      <td>81</td>\n      <td>False</td>\n    </tr>\n    <tr>\n      <th>1</th>\n      <td>2021-04-26</td>\n      <td>90</td>\n      <td>False</td>\n    </tr>\n    <tr>\n      <th>2</th>\n      <td>2021-04-27</td>\n      <td>89</td>\n      <td>False</td>\n    </tr>\n    <tr>\n      <th>3</th>\n      <td>2021-04-28</td>\n      <td>100</td>\n      <td>False</td>\n    </tr>\n  </tbody>\n</table>\n</div>"
     },
     "metadata": {},
     "execution_count": 36
    }
   ],
   "source": [
    "df.head()"
   ]
  },
  {
   "cell_type": "code",
   "execution_count": 37,
   "metadata": {},
   "outputs": [
    {
     "output_type": "execute_result",
     "data": {
      "text/plain": [
       "{0: {'date': Timestamp('2021-04-25 00:00:00'),\n",
       "  'covid': 81,\n",
       "  'isPartial': False},\n",
       " 1: {'date': Timestamp('2021-04-26 00:00:00'),\n",
       "  'covid': 90,\n",
       "  'isPartial': False},\n",
       " 2: {'date': Timestamp('2021-04-27 00:00:00'),\n",
       "  'covid': 89,\n",
       "  'isPartial': False},\n",
       " 3: {'date': Timestamp('2021-04-28 00:00:00'),\n",
       "  'covid': 100,\n",
       "  'isPartial': False}}"
      ]
     },
     "metadata": {},
     "execution_count": 37
    }
   ],
   "source": [
    " pytrends.interest_over_time().reset_index().T.to_dict()"
   ]
  },
  {
   "cell_type": "code",
   "execution_count": 49,
   "metadata": {},
   "outputs": [],
   "source": [
    "region  = pytrends.interest_by_region()"
   ]
  },
  {
   "cell_type": "code",
   "execution_count": 50,
   "metadata": {},
   "outputs": [],
   "source": [
    "related_topic = pytrends.related_topics()['covid']['rising']"
   ]
  },
  {
   "cell_type": "code",
   "execution_count": 51,
   "metadata": {},
   "outputs": [
    {
     "output_type": "execute_result",
     "data": {
      "text/plain": [
       "   value formattedValue                                               link  \\\n",
       "0    650          +650%  /trends/explore?q=/m/0g7kw&date=2021-04-25+202...   \n",
       "1    150          +150%  /trends/explore?q=/m/0602dc&date=2021-04-25+20...   \n",
       "2    140          +140%  /trends/explore?q=/m/0dl5pfb&date=2021-04-25+2...   \n",
       "3    100          +100%  /trends/explore?q=/m/03stkl&date=2021-04-25+20...   \n",
       "\n",
       "    topic_mid               topic_title  \\\n",
       "0    /m/0g7kw         Vallabhbhai Patel   \n",
       "1   /m/0602dc  Radha Soami Satsang Beas   \n",
       "2  /m/0dl5pfb   C-Reactive protein test   \n",
       "3   /m/03stkl                   D-dimer   \n",
       "\n",
       "                                 topic_type  \n",
       "0  Former Minister of Home Affairs of India  \n",
       "1               Not-for-profit organization  \n",
       "2                           Diagnostic test  \n",
       "3                           Diagnostic test  "
      ],
      "text/html": "<div>\n<style scoped>\n    .dataframe tbody tr th:only-of-type {\n        vertical-align: middle;\n    }\n\n    .dataframe tbody tr th {\n        vertical-align: top;\n    }\n\n    .dataframe thead th {\n        text-align: right;\n    }\n</style>\n<table border=\"1\" class=\"dataframe\">\n  <thead>\n    <tr style=\"text-align: right;\">\n      <th></th>\n      <th>value</th>\n      <th>formattedValue</th>\n      <th>link</th>\n      <th>topic_mid</th>\n      <th>topic_title</th>\n      <th>topic_type</th>\n    </tr>\n  </thead>\n  <tbody>\n    <tr>\n      <th>0</th>\n      <td>650</td>\n      <td>+650%</td>\n      <td>/trends/explore?q=/m/0g7kw&amp;date=2021-04-25+202...</td>\n      <td>/m/0g7kw</td>\n      <td>Vallabhbhai Patel</td>\n      <td>Former Minister of Home Affairs of India</td>\n    </tr>\n    <tr>\n      <th>1</th>\n      <td>150</td>\n      <td>+150%</td>\n      <td>/trends/explore?q=/m/0602dc&amp;date=2021-04-25+20...</td>\n      <td>/m/0602dc</td>\n      <td>Radha Soami Satsang Beas</td>\n      <td>Not-for-profit organization</td>\n    </tr>\n    <tr>\n      <th>2</th>\n      <td>140</td>\n      <td>+140%</td>\n      <td>/trends/explore?q=/m/0dl5pfb&amp;date=2021-04-25+2...</td>\n      <td>/m/0dl5pfb</td>\n      <td>C-Reactive protein test</td>\n      <td>Diagnostic test</td>\n    </tr>\n    <tr>\n      <th>3</th>\n      <td>100</td>\n      <td>+100%</td>\n      <td>/trends/explore?q=/m/03stkl&amp;date=2021-04-25+20...</td>\n      <td>/m/03stkl</td>\n      <td>D-dimer</td>\n      <td>Diagnostic test</td>\n    </tr>\n  </tbody>\n</table>\n</div>"
     },
     "metadata": {},
     "execution_count": 51
    }
   ],
   "source": [
    "related_topic "
   ]
  },
  {
   "cell_type": "code",
   "execution_count": null,
   "metadata": {},
   "outputs": [],
   "source": []
  }
 ]
}